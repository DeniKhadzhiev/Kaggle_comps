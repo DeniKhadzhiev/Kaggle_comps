{
 "cells": [
  {
   "cell_type": "code",
   "execution_count": 1,
   "id": "20d6869a",
   "metadata": {},
   "outputs": [
    {
     "name": "stderr",
     "output_type": "stream",
     "text": [
      "/Users/n0thing_seri0us/opt/anaconda3/lib/python3.9/site-packages/pandas/core/computation/expressions.py:21: UserWarning: Pandas requires version '2.8.4' or newer of 'numexpr' (version '2.7.3' currently installed).\n",
      "  from pandas.core.computation.check import NUMEXPR_INSTALLED\n",
      "/Users/n0thing_seri0us/opt/anaconda3/lib/python3.9/site-packages/pandas/core/arrays/masked.py:60: UserWarning: Pandas requires version '1.3.6' or newer of 'bottleneck' (version '1.3.2' currently installed).\n",
      "  from pandas.core import (\n"
     ]
    }
   ],
   "source": [
    "import pandas as pd\n",
    "import numpy as np\n",
    "import sklearn\n",
    "from sklearn import svm\n",
    "from scipy.stats import loguniform\n",
    "import os\n",
    "from sklearn.model_selection import GridSearchCV, train_test_split, RandomizedSearchCV\n",
    "from sklearn.preprocessing import StandardScaler\n",
    "from sklearn.decomposition import PCA\n",
    "import matplotlib.pyplot as plt\n",
    "from sklearn.metrics import accuracy_score"
   ]
  },
  {
   "cell_type": "code",
   "execution_count": 2,
   "id": "6b6a70ee",
   "metadata": {},
   "outputs": [],
   "source": [
    "Xtrain_no_prep = np.load(\"/Users/n0thing_seri0us/Downloads/face-recognition-24/faces_train_x.npz\")\n",
    "Xtest_no_prep = np.load(\"/Users/n0thing_seri0us/Downloads/face-recognition-24/faces_test_x.npz\")\n",
    "ytrain_no_prep = pd.read_csv(\"/Users/n0thing_seri0us/Downloads/face-recognition-24/faces_train_y.csv\")\n",
    "ytest_no_prep = pd.read_csv(\"/Users/n0thing_seri0us/Downloads/face-recognition-24/faces_test_sample_solution.csv\")"
   ]
  },
  {
   "cell_type": "code",
   "execution_count": 3,
   "id": "4b480ef3",
   "metadata": {},
   "outputs": [],
   "source": [
    "ytrain = ytrain_no_prep.drop(['Id'], axis = 1)\n",
    "ytest = ytest_no_prep.drop(['Id'], axis = 1)"
   ]
  },
  {
   "cell_type": "code",
   "execution_count": 4,
   "id": "4c68f35b",
   "metadata": {},
   "outputs": [],
   "source": [
    "Xtrain = Xtrain_no_prep['arr_0'].reshape(1000, 2914)\n",
    "Xtest = Xtest_no_prep['arr_0'].reshape(348, 2914)"
   ]
  },
  {
   "cell_type": "code",
   "execution_count": 5,
   "id": "3138de5e",
   "metadata": {},
   "outputs": [],
   "source": [
    "Xtrain = pd.DataFrame(Xtrain)\n",
    "Xtest = pd.DataFrame(Xtest)"
   ]
  },
  {
   "cell_type": "code",
   "execution_count": 6,
   "id": "e5ae2028",
   "metadata": {},
   "outputs": [],
   "source": [
    "scaler = StandardScaler()\n",
    "Xtrain = scaler.fit_transform(Xtrain)\n",
    "Xtest = scaler.transform(Xtest)\n",
    "pca = PCA(n_components=75, svd_solver=\"randomized\", whiten=True).fit(Xtrain)\n",
    "Xtrain_pca = pca.transform(Xtrain)\n",
    "Xtest_pca = pca.transform(Xtest)"
   ]
  },
  {
   "cell_type": "code",
   "execution_count": 16,
   "id": "91930f96",
   "metadata": {},
   "outputs": [
    {
     "name": "stdout",
     "output_type": "stream",
     "text": [
      "0.12931034482758622\n"
     ]
    },
    {
     "data": {
      "text/plain": [
       "array([3, 3, 7, 3, 2, 1, 1, 7, 3, 3, 7, 3, 7, 3, 1, 3, 1, 3, 3, 1, 3, 7,\n",
       "       7, 3, 4, 5, 3, 3, 3, 4, 3, 3, 3, 1, 3, 7, 3, 3, 3, 4, 3, 4, 2, 3,\n",
       "       1, 4, 0, 3, 3, 6, 0, 1, 1, 4, 3, 1, 3, 0, 7, 1, 3, 1, 3, 4, 7, 3,\n",
       "       2, 3, 3, 7, 5, 3, 1, 3, 0, 7, 2, 1, 3, 6, 2, 3, 3, 1, 3, 7, 3, 1,\n",
       "       3, 7, 3, 3, 0, 3, 3, 3, 0, 3, 2, 2, 4, 3, 3, 3, 3, 1, 3, 4, 1, 5,\n",
       "       0, 1, 5, 1, 4, 3, 2, 2, 3, 3, 3, 3, 3, 1, 1, 3, 1, 7, 3, 1, 3, 4,\n",
       "       7, 7, 3, 4, 3, 4, 5, 3, 2, 6, 3, 1, 1, 2, 1, 4, 4, 7, 6, 3, 2, 7,\n",
       "       3, 3, 1, 1, 5, 7, 3, 3, 4, 1, 3, 5, 3, 1, 5, 5, 0, 5, 3, 2, 1, 3,\n",
       "       1, 3, 1, 3, 1, 3, 7, 3, 1, 4, 3, 3, 3, 7, 4, 1, 3, 7, 3, 7, 1, 4,\n",
       "       1, 1, 4, 6, 3, 5, 0, 7, 7, 2, 3, 6, 3, 3, 3, 2, 3, 4, 4, 1, 3, 3,\n",
       "       6, 3, 5, 7, 4, 2, 3, 3, 5, 3, 0, 3, 0, 3, 2, 3, 1, 4, 2, 2, 1, 1,\n",
       "       5, 1, 3, 3, 3, 1, 5, 0, 0, 2, 4, 3, 3, 2, 3, 3, 1, 7, 2, 1, 3, 1,\n",
       "       1, 5, 1, 1, 2, 2, 3, 1, 2, 1, 3, 3, 5, 1, 4, 7, 3, 3, 3, 1, 3, 1,\n",
       "       3, 4, 3, 0, 7, 3, 3, 3, 7, 4, 3, 2, 3, 3, 1, 3, 2, 3, 5, 5, 3, 1,\n",
       "       7, 1, 1, 3, 3, 3, 2, 3, 3, 2, 3, 3, 7, 3, 4, 1, 3, 6, 1, 3, 3, 4,\n",
       "       5, 3, 6, 0, 3, 4, 4, 1, 3, 1, 3, 1, 7, 6, 7, 4, 4, 3])"
      ]
     },
     "execution_count": 16,
     "metadata": {},
     "output_type": "execute_result"
    }
   ],
   "source": [
    "svc = svm.SVC(C = 6300, gamma = 0.005, kernel='rbf', probability=True)\n",
    "svc.fit(Xtrain_pca, ytrain.values.ravel())\n",
    "pred = svc.predict(Xtest_pca)\n",
    "print(accuracy_score(ytest, pred))\n",
    "pred"
   ]
  },
  {
   "cell_type": "code",
   "execution_count": 17,
   "id": "5ff17bd9",
   "metadata": {},
   "outputs": [],
   "source": [
    "solve = pd.DataFrame((pred))\n",
    "solve[\"Id\"] = solve.index\n",
    "solve.rename(columns={ 0: \"Predicted\"},inplace=True)\n",
    "solve = solve.reindex(columns=['Id', 'Predicted'])\n",
    "solve.to_csv(\"comp3data10.csv\", index = False)"
   ]
  },
  {
   "cell_type": "code",
   "execution_count": null,
   "id": "89751d93",
   "metadata": {},
   "outputs": [],
   "source": []
  },
  {
   "cell_type": "code",
   "execution_count": null,
   "id": "354b30c6",
   "metadata": {},
   "outputs": [],
   "source": []
  },
  {
   "cell_type": "code",
   "execution_count": null,
   "id": "c5d92d61",
   "metadata": {},
   "outputs": [],
   "source": []
  },
  {
   "cell_type": "code",
   "execution_count": null,
   "id": "db97d3cb",
   "metadata": {},
   "outputs": [],
   "source": []
  },
  {
   "cell_type": "code",
   "execution_count": null,
   "id": "d669b703",
   "metadata": {},
   "outputs": [],
   "source": []
  },
  {
   "cell_type": "code",
   "execution_count": null,
   "id": "b38bbc07",
   "metadata": {},
   "outputs": [],
   "source": []
  },
  {
   "cell_type": "code",
   "execution_count": null,
   "id": "89887d9c",
   "metadata": {},
   "outputs": [],
   "source": []
  },
  {
   "cell_type": "code",
   "execution_count": null,
   "id": "6a1e0bdd",
   "metadata": {},
   "outputs": [],
   "source": []
  },
  {
   "cell_type": "code",
   "execution_count": null,
   "id": "5bea0082",
   "metadata": {},
   "outputs": [],
   "source": []
  },
  {
   "cell_type": "code",
   "execution_count": null,
   "id": "e9e3d11c",
   "metadata": {},
   "outputs": [],
   "source": []
  },
  {
   "cell_type": "code",
   "execution_count": null,
   "id": "65f6bbf4",
   "metadata": {},
   "outputs": [],
   "source": []
  },
  {
   "cell_type": "code",
   "execution_count": null,
   "id": "58b0df58",
   "metadata": {},
   "outputs": [],
   "source": []
  },
  {
   "cell_type": "code",
   "execution_count": null,
   "id": "5e9e0ded",
   "metadata": {},
   "outputs": [],
   "source": []
  }
 ],
 "metadata": {
  "kernelspec": {
   "display_name": "Python 3 (ipykernel)",
   "language": "python",
   "name": "python3"
  },
  "language_info": {
   "codemirror_mode": {
    "name": "ipython",
    "version": 3
   },
   "file_extension": ".py",
   "mimetype": "text/x-python",
   "name": "python",
   "nbconvert_exporter": "python",
   "pygments_lexer": "ipython3",
   "version": "3.9.7"
  }
 },
 "nbformat": 4,
 "nbformat_minor": 5
}
